{
  "nbformat": 4,
  "nbformat_minor": 0,
  "metadata": {
    "colab": {
      "provenance": [],
      "collapsed_sections": [
        "zkJKR8d_YFtx",
        "myD6Kga1XVNu",
        "iAx_mr7oXkVe",
        "f3ItBB96X1Ls"
      ]
    },
    "kernelspec": {
      "name": "python3",
      "display_name": "Python 3"
    },
    "language_info": {
      "name": "python"
    },
    "accelerator": "GPU",
    "gpuClass": "standard"
  },
  "cells": [
    {
      "cell_type": "markdown",
      "source": [
        "#Get Dataset: [link dataset](https://huggingface.co/datasets/uit-nlp/vietnamese_students_feedback)"
      ],
      "metadata": {
        "id": "5eeGGUVCWjgf"
      }
    },
    {
      "cell_type": "markdown",
      "source": [
        "##Vietnamese students feedback"
      ],
      "metadata": {
        "id": "zkJKR8d_YFtx"
      }
    },
    {
      "cell_type": "code",
      "source": [
        "import requests\n",
        "import csv\n",
        "import os\n",
        "import gdown\n",
        "import shutil\n",
        "import pandas as pd\n",
        "\n",
        "path_train = \"train.csv\"\n",
        "path_val = \"val.csv\"\n",
        "path_test = \"test.csv\""
      ],
      "metadata": {
        "id": "Z65FKQ1bwnYO"
      },
      "execution_count": 3,
      "outputs": []
    },
    {
      "cell_type": "markdown",
      "source": [
        "###Imcomplete version datadet"
      ],
      "metadata": {
        "id": "myD6Kga1XVNu"
      }
    },
    {
      "cell_type": "code",
      "source": [
        "# url_train = \"https://datasets-server.huggingface.co/first-rows?dataset=uit-nlp%2Fvietnamese_students_feedback&config=default&split=train\"\n",
        "# url_val = \"https://datasets-server.huggingface.co/first-rows?dataset=uit-nlp%2Fvietnamese_students_feedback&config=default&split=validation\"\n",
        "# url_test = \"https://datasets-server.huggingface.co/first-rows?dataset=uit-nlp%2Fvietnamese_students_feedback&config=default&split=test\"\n",
        "\n",
        "# def json2csv(url, out):\n",
        "#   request = requests.get(url_train)\n",
        "#   if request.status_code == 200:\n",
        "#     json = request.json()\n",
        "#     with open(out, 'w') as data:\n",
        "#       f = csv.writer(data)\n",
        "#       f.writerow(list(json['rows'][0]['row'].keys())[:-1])\n",
        "#       for it in json['rows']:\n",
        "#         f.writerow(list(it['row'].values())[:-1])\n",
        "\n",
        "# json2csv(url_train, path_train)\n",
        "# json2csv(url_val, path_val)\n",
        "# json2csv(url_test, path_test)"
      ],
      "metadata": {
        "id": "xV9dRm_SXUsc"
      },
      "execution_count": 6,
      "outputs": []
    },
    {
      "cell_type": "markdown",
      "source": [
        "###Complete version datadet"
      ],
      "metadata": {
        "id": "iAx_mr7oXkVe"
      }
    },
    {
      "cell_type": "code",
      "source": [
        "if not os.path.exists('tmp'):\n",
        "  os.mkdir('tmp')\n",
        "    \n",
        "filename_down = (\n",
        "  (\"https://drive.google.com/uc?id=1nzak5OkrheRV1ltOGCXkT671bmjODLhP&export=download\", \"tmp/train_sentence.txt\"),\n",
        "  (\"https://drive.google.com/uc?id=1ye-gOZIBqXdKOoi_YxvpT6FeRNmViPPv&export=download\", \"tmp/train_sentiment.txt\"),\n",
        "  (\"https://drive.google.com/uc?id=1sMJSR3oRfPc3fe1gK-V3W5F24tov_517&export=download\", \"tmp/val_sentence.txt\"),\n",
        "  (\"https://drive.google.com/uc?id=1GiY1AOp41dLXIIkgES4422AuDwmbUseL&export=download\", \"tmp/val_sentiment.txt\"),\n",
        "  (\"https://drive.google.com/uc?id=1aNMOeZZbNwSRkjyCWAGtNCMa3YrshR-n&export=download\", \"tmp/test_sentence.txt\"),\n",
        "  (\"https://drive.google.com/uc?id=1vkQS5gI0is4ACU58-AbWusnemw7KZNfO&export=download\", \"tmp/test_sentiment.txt\")\n",
        ")\n",
        "\n",
        "for it in filename_down:\n",
        "  gdown.download(it[0], it[1], quiet=False)\n",
        "\n",
        "def concat_data(url1, url2, out):\n",
        "  with open(url1, 'r') as f:\n",
        "    df1 = f.read().split('\\n')[:-1]\n",
        "  with open(url2, 'r') as f:\n",
        "    df2 = f.read().split('\\n')[:-1]\n",
        "  \n",
        "  df = pd.DataFrame({'sentence': df1,  'sentiment': df2})\n",
        "  df.to_csv(out, index=False)\n",
        "\n",
        "concat_data('tmp/train_sentence.txt', 'tmp/train_sentiment.txt', path_train)\n",
        "concat_data('tmp/val_sentence.txt', 'tmp/val_sentiment.txt', path_val)\n",
        "concat_data('tmp/test_sentence.txt', 'tmp/test_sentiment.txt', path_test)\n",
        "\n",
        "shutil.rmtree('tmp')"
      ],
      "metadata": {
        "colab": {
          "base_uri": "https://localhost:8080/"
        },
        "id": "Bq2h-W2nfUbf",
        "outputId": "a9452400-3b79-4c02-9b73-4e3162a2cdae"
      },
      "execution_count": 8,
      "outputs": [
        {
          "output_type": "stream",
          "name": "stderr",
          "text": [
            "Downloading...\n",
            "From: https://drive.google.com/uc?id=1nzak5OkrheRV1ltOGCXkT671bmjODLhP&export=download\n",
            "To: /content/tmp/train_sentence.txt\n",
            "100%|██████████| 898k/898k [00:00<00:00, 159MB/s]\n",
            "Downloading...\n",
            "From: https://drive.google.com/uc?id=1ye-gOZIBqXdKOoi_YxvpT6FeRNmViPPv&export=download\n",
            "To: /content/tmp/train_sentiment.txt\n",
            "100%|██████████| 22.9k/22.9k [00:00<00:00, 37.3MB/s]\n",
            "Downloading...\n",
            "From: https://drive.google.com/uc?id=1sMJSR3oRfPc3fe1gK-V3W5F24tov_517&export=download\n",
            "To: /content/tmp/val_sentence.txt\n",
            "100%|██████████| 119k/119k [00:00<00:00, 52.6MB/s]\n",
            "Downloading...\n",
            "From: https://drive.google.com/uc?id=1GiY1AOp41dLXIIkgES4422AuDwmbUseL&export=download\n",
            "To: /content/tmp/val_sentiment.txt\n",
            "100%|██████████| 3.17k/3.17k [00:00<00:00, 4.65MB/s]\n",
            "Downloading...\n",
            "From: https://drive.google.com/uc?id=1aNMOeZZbNwSRkjyCWAGtNCMa3YrshR-n&export=download\n",
            "To: /content/tmp/test_sentence.txt\n",
            "100%|██████████| 248k/248k [00:00<00:00, 57.3MB/s]\n",
            "Downloading...\n",
            "From: https://drive.google.com/uc?id=1vkQS5gI0is4ACU58-AbWusnemw7KZNfO&export=download\n",
            "To: /content/tmp/test_sentiment.txt\n",
            "100%|██████████| 6.33k/6.33k [00:00<00:00, 15.5MB/s]\n"
          ]
        }
      ]
    },
    {
      "cell_type": "markdown",
      "source": [
        "##Stop words\n",
        "\n"
      ],
      "metadata": {
        "id": "f3ItBB96X1Ls"
      }
    },
    {
      "cell_type": "code",
      "source": [
        "!wget 'https://github.com/stopwords/vietnamese-stopwords/blob/master/vietnamese-stopwords.txt'"
      ],
      "metadata": {
        "colab": {
          "base_uri": "https://localhost:8080/"
        },
        "id": "AwKk_XqXpi7H",
        "outputId": "c30625df-4e49-46ff-ac61-92d8ecc32d53"
      },
      "execution_count": 9,
      "outputs": [
        {
          "output_type": "stream",
          "name": "stdout",
          "text": [
            "--2022-11-29 03:50:45--  https://github.com/stopwords/vietnamese-stopwords/blob/master/vietnamese-stopwords.txt\n",
            "Resolving github.com (github.com)... 140.82.121.4\n",
            "Connecting to github.com (github.com)|140.82.121.4|:443... connected.\n",
            "HTTP request sent, awaiting response... 200 OK\n",
            "Length: unspecified [text/html]\n",
            "Saving to: ‘vietnamese-stopwords.txt’\n",
            "\n",
            "vietnamese-stopword     [ <=>                ] 600.16K  --.-KB/s    in 0.04s   \n",
            "\n",
            "2022-11-29 03:50:46 (15.1 MB/s) - ‘vietnamese-stopwords.txt’ saved [614560]\n",
            "\n"
          ]
        }
      ]
    },
    {
      "cell_type": "code",
      "source": [
        "stop_words = '/content/vietnamese-stopwords.txt'"
      ],
      "metadata": {
        "id": "HHgW0E3KpkMq"
      },
      "execution_count": 10,
      "outputs": []
    },
    {
      "cell_type": "markdown",
      "source": [
        "#Code"
      ],
      "metadata": {
        "id": "h9XMhTEVX867"
      }
    },
    {
      "cell_type": "code",
      "source": [
        "import numpy as np \n",
        "import torch\n",
        "import torch.nn as nn\n",
        "import torch.nn.functional as F\n",
        "from nltk.corpus import stopwords \n",
        "from collections import Counter\n",
        "import string\n",
        "import re\n",
        "import seaborn as sns\n",
        "from tqdm import tqdm\n",
        "import matplotlib.pyplot as plt\n",
        "from torch.utils.data import TensorDataset, DataLoader\n",
        "from sklearn.model_selection import train_test_split\n",
        "\n",
        "import nltk\n",
        "nltk.download('stopwords')"
      ],
      "metadata": {
        "id": "xfsrzC5O946m",
        "colab": {
          "base_uri": "https://localhost:8080/"
        },
        "outputId": "57b0103a-6b4e-465f-982c-6c2fc6411db4"
      },
      "execution_count": 11,
      "outputs": [
        {
          "output_type": "stream",
          "name": "stderr",
          "text": [
            "[nltk_data] Downloading package stopwords to /root/nltk_data...\n",
            "[nltk_data]   Unzipping corpora/stopwords.zip.\n"
          ]
        },
        {
          "output_type": "execute_result",
          "data": {
            "text/plain": [
              "True"
            ]
          },
          "metadata": {},
          "execution_count": 11
        }
      ]
    },
    {
      "cell_type": "code",
      "source": [
        "random_seed = 1234\n",
        "torch.backends.cudnn.enabled = False\n",
        "torch.manual_seed(random_seed)"
      ],
      "metadata": {
        "colab": {
          "base_uri": "https://localhost:8080/"
        },
        "id": "bvgW0DTMzNEL",
        "outputId": "6297aea0-913e-47c8-9468-8d95a3fc989b"
      },
      "execution_count": 36,
      "outputs": [
        {
          "output_type": "execute_result",
          "data": {
            "text/plain": [
              "<torch._C.Generator at 0x7f089863f4d0>"
            ]
          },
          "metadata": {},
          "execution_count": 36
        }
      ]
    },
    {
      "cell_type": "code",
      "source": [
        "device = ('cpu', 'cuda')[torch.cuda.is_available()]\n",
        "\n",
        "df_train = pd.read_csv(path_train)\n",
        "df_val = pd.read_csv(path_val)\n",
        "df_train.head()"
      ],
      "metadata": {
        "colab": {
          "base_uri": "https://localhost:8080/",
          "height": 206
        },
        "id": "CSsd4UpfgtNf",
        "outputId": "c36e0985-2ebc-4ec0-8b1a-c85e9328f047"
      },
      "execution_count": 37,
      "outputs": [
        {
          "output_type": "execute_result",
          "data": {
            "text/plain": [
              "                                            sentence  sentiment\n",
              "0                          slide giáo trình đầy đủ .          2\n",
              "1     nhiệt tình giảng dạy , gần gũi với sinh viên .          2\n",
              "2               đi học đầy đủ full điểm chuyên cần .          0\n",
              "3  chưa áp dụng công nghệ thông tin và các thiết ...          0\n",
              "4  thầy giảng bài hay , có nhiều bài tập ví dụ ng...          2"
            ],
            "text/html": [
              "\n",
              "  <div id=\"df-8c09a5fe-d27b-4f2f-b80b-9acd651999e0\">\n",
              "    <div class=\"colab-df-container\">\n",
              "      <div>\n",
              "<style scoped>\n",
              "    .dataframe tbody tr th:only-of-type {\n",
              "        vertical-align: middle;\n",
              "    }\n",
              "\n",
              "    .dataframe tbody tr th {\n",
              "        vertical-align: top;\n",
              "    }\n",
              "\n",
              "    .dataframe thead th {\n",
              "        text-align: right;\n",
              "    }\n",
              "</style>\n",
              "<table border=\"1\" class=\"dataframe\">\n",
              "  <thead>\n",
              "    <tr style=\"text-align: right;\">\n",
              "      <th></th>\n",
              "      <th>sentence</th>\n",
              "      <th>sentiment</th>\n",
              "    </tr>\n",
              "  </thead>\n",
              "  <tbody>\n",
              "    <tr>\n",
              "      <th>0</th>\n",
              "      <td>slide giáo trình đầy đủ .</td>\n",
              "      <td>2</td>\n",
              "    </tr>\n",
              "    <tr>\n",
              "      <th>1</th>\n",
              "      <td>nhiệt tình giảng dạy , gần gũi với sinh viên .</td>\n",
              "      <td>2</td>\n",
              "    </tr>\n",
              "    <tr>\n",
              "      <th>2</th>\n",
              "      <td>đi học đầy đủ full điểm chuyên cần .</td>\n",
              "      <td>0</td>\n",
              "    </tr>\n",
              "    <tr>\n",
              "      <th>3</th>\n",
              "      <td>chưa áp dụng công nghệ thông tin và các thiết ...</td>\n",
              "      <td>0</td>\n",
              "    </tr>\n",
              "    <tr>\n",
              "      <th>4</th>\n",
              "      <td>thầy giảng bài hay , có nhiều bài tập ví dụ ng...</td>\n",
              "      <td>2</td>\n",
              "    </tr>\n",
              "  </tbody>\n",
              "</table>\n",
              "</div>\n",
              "      <button class=\"colab-df-convert\" onclick=\"convertToInteractive('df-8c09a5fe-d27b-4f2f-b80b-9acd651999e0')\"\n",
              "              title=\"Convert this dataframe to an interactive table.\"\n",
              "              style=\"display:none;\">\n",
              "        \n",
              "  <svg xmlns=\"http://www.w3.org/2000/svg\" height=\"24px\"viewBox=\"0 0 24 24\"\n",
              "       width=\"24px\">\n",
              "    <path d=\"M0 0h24v24H0V0z\" fill=\"none\"/>\n",
              "    <path d=\"M18.56 5.44l.94 2.06.94-2.06 2.06-.94-2.06-.94-.94-2.06-.94 2.06-2.06.94zm-11 1L8.5 8.5l.94-2.06 2.06-.94-2.06-.94L8.5 2.5l-.94 2.06-2.06.94zm10 10l.94 2.06.94-2.06 2.06-.94-2.06-.94-.94-2.06-.94 2.06-2.06.94z\"/><path d=\"M17.41 7.96l-1.37-1.37c-.4-.4-.92-.59-1.43-.59-.52 0-1.04.2-1.43.59L10.3 9.45l-7.72 7.72c-.78.78-.78 2.05 0 2.83L4 21.41c.39.39.9.59 1.41.59.51 0 1.02-.2 1.41-.59l7.78-7.78 2.81-2.81c.8-.78.8-2.07 0-2.86zM5.41 20L4 18.59l7.72-7.72 1.47 1.35L5.41 20z\"/>\n",
              "  </svg>\n",
              "      </button>\n",
              "      \n",
              "  <style>\n",
              "    .colab-df-container {\n",
              "      display:flex;\n",
              "      flex-wrap:wrap;\n",
              "      gap: 12px;\n",
              "    }\n",
              "\n",
              "    .colab-df-convert {\n",
              "      background-color: #E8F0FE;\n",
              "      border: none;\n",
              "      border-radius: 50%;\n",
              "      cursor: pointer;\n",
              "      display: none;\n",
              "      fill: #1967D2;\n",
              "      height: 32px;\n",
              "      padding: 0 0 0 0;\n",
              "      width: 32px;\n",
              "    }\n",
              "\n",
              "    .colab-df-convert:hover {\n",
              "      background-color: #E2EBFA;\n",
              "      box-shadow: 0px 1px 2px rgba(60, 64, 67, 0.3), 0px 1px 3px 1px rgba(60, 64, 67, 0.15);\n",
              "      fill: #174EA6;\n",
              "    }\n",
              "\n",
              "    [theme=dark] .colab-df-convert {\n",
              "      background-color: #3B4455;\n",
              "      fill: #D2E3FC;\n",
              "    }\n",
              "\n",
              "    [theme=dark] .colab-df-convert:hover {\n",
              "      background-color: #434B5C;\n",
              "      box-shadow: 0px 1px 3px 1px rgba(0, 0, 0, 0.15);\n",
              "      filter: drop-shadow(0px 1px 2px rgba(0, 0, 0, 0.3));\n",
              "      fill: #FFFFFF;\n",
              "    }\n",
              "  </style>\n",
              "\n",
              "      <script>\n",
              "        const buttonEl =\n",
              "          document.querySelector('#df-8c09a5fe-d27b-4f2f-b80b-9acd651999e0 button.colab-df-convert');\n",
              "        buttonEl.style.display =\n",
              "          google.colab.kernel.accessAllowed ? 'block' : 'none';\n",
              "\n",
              "        async function convertToInteractive(key) {\n",
              "          const element = document.querySelector('#df-8c09a5fe-d27b-4f2f-b80b-9acd651999e0');\n",
              "          const dataTable =\n",
              "            await google.colab.kernel.invokeFunction('convertToInteractive',\n",
              "                                                     [key], {});\n",
              "          if (!dataTable) return;\n",
              "\n",
              "          const docLinkHtml = 'Like what you see? Visit the ' +\n",
              "            '<a target=\"_blank\" href=https://colab.research.google.com/notebooks/data_table.ipynb>data table notebook</a>'\n",
              "            + ' to learn more about interactive tables.';\n",
              "          element.innerHTML = '';\n",
              "          dataTable['output_type'] = 'display_data';\n",
              "          await google.colab.output.renderOutput(dataTable, element);\n",
              "          const docLink = document.createElement('div');\n",
              "          docLink.innerHTML = docLinkHtml;\n",
              "          element.appendChild(docLink);\n",
              "        }\n",
              "      </script>\n",
              "    </div>\n",
              "  </div>\n",
              "  "
            ]
          },
          "metadata": {},
          "execution_count": 37
        }
      ]
    },
    {
      "cell_type": "code",
      "source": [
        "x_train, y_train = df_train['sentence'], df_train['sentiment']\n",
        "x_val, y_val = df_val['sentence'], df_val['sentiment']\n",
        "print(f'shape of train data is {x_train.shape}')\n",
        "print(f'shape of val data is {x_val.shape}')"
      ],
      "metadata": {
        "colab": {
          "base_uri": "https://localhost:8080/"
        },
        "id": "tSMMe13dhmDU",
        "outputId": "99c8dad4-9dc0-4ab6-fe82-bd35a7b3ca0b"
      },
      "execution_count": 38,
      "outputs": [
        {
          "output_type": "stream",
          "name": "stdout",
          "text": [
            "shape of train data is (11426,)\n",
            "shape of val data is (1583,)\n"
          ]
        }
      ]
    },
    {
      "cell_type": "code",
      "source": [
        "dd = pd.Series(y_train).value_counts().sort_index()\n",
        "sns.barplot(x=np.array(['negative', 'neutral', 'positive']), y=dd.values)\n",
        "plt.show()"
      ],
      "metadata": {
        "colab": {
          "base_uri": "https://localhost:8080/",
          "height": 265
        },
        "id": "38tsPKIPhvJ0",
        "outputId": "5819e83c-b2a8-48ef-d483-0f6dcbf01041"
      },
      "execution_count": 39,
      "outputs": [
        {
          "output_type": "display_data",
          "data": {
            "text/plain": [
              "<Figure size 432x288 with 1 Axes>"
            ],
            "image/png": "[encoded data removed]"
          },
          "metadata": {
            "needs_background": "light"
          }
        }
      ]
    },
    {
      "cell_type": "markdown",
      "source": [
        "###Preprocess"
      ],
      "metadata": {
        "id": "TuvCKlx5Yfyl"
      }
    },
    {
      "cell_type": "code",
      "source": [
        "def preprocess_string(s):\n",
        "  # Remove all non-word characters (everything except numbers and letters)\n",
        "  s = re.sub(r\"[^\\w\\s]\", '', s)\n",
        "  # Replace all runs of whitespaces with no space\n",
        "  s = re.sub(r\"\\s+\", '', s)\n",
        "  # replace digits with no space\n",
        "  s = re.sub(r\"\\d\", '', s)\n",
        "\n",
        "  return s\n",
        "\n",
        "def tockenize(x_train, y_train, x_val, y_val, stop_words):\n",
        "  word_list = []\n",
        "\n",
        "  stop_words = set(stopwords.words(stop_words)) \n",
        "  for sent in x_train:\n",
        "    for word in sent.lower().split():\n",
        "      word = preprocess_string(word)\n",
        "      if word not in stop_words and word != '':\n",
        "        word_list.append(word)\n",
        "\n",
        "  corpus = Counter(word_list)\n",
        "  # sorting on the basis of most common words\n",
        "  corpus_ = sorted(corpus, key=corpus.get, reverse=True)[:1000]\n",
        "  # creating a dict\n",
        "  onehot_dict = {w:i+1 for i,w in enumerate(corpus_)}\n",
        "  \n",
        "  # tockenize\n",
        "  final_list_train, final_list_test = [],[]\n",
        "  for sent in x_train:\n",
        "    final_list_train.append([onehot_dict[preprocess_string(word)] for word in sent.lower().split() \n",
        "                              if preprocess_string(word) in onehot_dict.keys()])\n",
        "  for sent in x_val:\n",
        "    final_list_test.append([onehot_dict[preprocess_string(word)] for word in sent.lower().split() \n",
        "                            if preprocess_string(word) in onehot_dict.keys()])\n",
        "          \n",
        "  return np.array(final_list_train), np.array(y_train), np.array(final_list_test), np.array(y_val), onehot_dict"
      ],
      "metadata": {
        "id": "O2CUzDlfkFBn"
      },
      "execution_count": 40,
      "outputs": []
    },
    {
      "cell_type": "code",
      "source": [
        "x_train, y_train, x_val, y_val, vocab = tockenize(x_train, y_train, x_val, y_val, stop_words)\n",
        "print(f'Length of vocabulary is {len(vocab)}')"
      ],
      "metadata": {
        "colab": {
          "base_uri": "https://localhost:8080/"
        },
        "id": "D1k-daDRktTC",
        "outputId": "ce0a22fa-1300-4c8f-b45e-1182046bf182"
      },
      "execution_count": 41,
      "outputs": [
        {
          "output_type": "stream",
          "name": "stdout",
          "text": [
            "Length of vocabulary is 1000\n"
          ]
        },
        {
          "output_type": "stream",
          "name": "stderr",
          "text": [
            "/usr/local/lib/python3.7/dist-packages/ipykernel_launcher.py:36: VisibleDeprecationWarning: Creating an ndarray from ragged nested sequences (which is a list-or-tuple of lists-or-tuples-or ndarrays with different lengths or shapes) is deprecated. If you meant to do this, you must specify 'dtype=object' when creating the ndarray.\n"
          ]
        }
      ]
    },
    {
      "cell_type": "code",
      "source": [
        "rev_len = [len(i) for i in x_train]\n",
        "pd.Series(rev_len).hist()\n",
        "plt.show()\n",
        "pd.Series(rev_len).describe()"
      ],
      "metadata": {
        "colab": {
          "base_uri": "https://localhost:8080/",
          "height": 428
        },
        "id": "vE8jFh91kyJX",
        "outputId": "d715e360-d97d-45d1-d935-28d5d24549f8"
      },
      "execution_count": 42,
      "outputs": [
        {
          "output_type": "display_data",
          "data": {
            "text/plain": [
              "<Figure size 432x288 with 1 Axes>"
            ],
            "image/png": "[encoded data removed]"
          },
          "metadata": {
            "needs_background": "light"
          }
        },
        {
          "output_type": "execute_result",
          "data": {
            "text/plain": [
              "count    11426.000000\n",
              "mean        12.456153\n",
              "std          9.297093\n",
              "min          0.000000\n",
              "25%          6.000000\n",
              "50%         10.000000\n",
              "75%         15.000000\n",
              "max        142.000000\n",
              "dtype: float64"
            ]
          },
          "metadata": {},
          "execution_count": 42
        }
      ]
    },
    {
      "cell_type": "code",
      "source": [
        "def padding_(sentences, seq_len):\n",
        "  features = np.zeros((len(sentences), seq_len),dtype=int)\n",
        "  for ii, review in enumerate(sentences):\n",
        "    if len(review) != 0:\n",
        "      features[ii, -len(review):] = np.array(review)[:seq_len]\n",
        "  return features"
      ],
      "metadata": {
        "id": "TGDw7eRCqe3C"
      },
      "execution_count": 43,
      "outputs": []
    },
    {
      "cell_type": "code",
      "source": [
        "# we have very less number of reviews with length > 500.\n",
        "# So we will consideronly those below it.\n",
        "x_train_pad = padding_(x_train, 500)\n",
        "x_val_pad = padding_(x_val, 500)"
      ],
      "metadata": {
        "id": "iVFArbaEqg6F"
      },
      "execution_count": 44,
      "outputs": []
    },
    {
      "cell_type": "code",
      "source": [
        "x_train_pad.shape"
      ],
      "metadata": {
        "colab": {
          "base_uri": "https://localhost:8080/"
        },
        "id": "lRanf5fYEHcl",
        "outputId": "a530368a-d63e-4025-8bfe-ff585beb26f6"
      },
      "execution_count": 45,
      "outputs": [
        {
          "output_type": "execute_result",
          "data": {
            "text/plain": [
              "(11426, 500)"
            ]
          },
          "metadata": {},
          "execution_count": 45
        }
      ]
    },
    {
      "cell_type": "code",
      "source": [
        "batch_size = 50\n",
        "\n",
        "# create Tensor datasets\n",
        "train_data = TensorDataset(torch.from_numpy(x_train_pad), torch.from_numpy(y_train))\n",
        "valid_data = TensorDataset(torch.from_numpy(x_val_pad), torch.from_numpy(y_val))\n",
        "\n",
        "# dataloaders\n",
        "\n",
        "# make sure to SHUFFLE your data\n",
        "train_loader = DataLoader(train_data, shuffle=True, batch_size=batch_size)\n",
        "valid_loader = DataLoader(valid_data, shuffle=True, batch_size=batch_size)"
      ],
      "metadata": {
        "id": "YR5OIaFbqjoI"
      },
      "execution_count": 46,
      "outputs": []
    },
    {
      "cell_type": "code",
      "source": [
        "# obtain one batch of training data\n",
        "dataiter = iter(train_loader)\n",
        "sample_x, sample_y = dataiter.next()\n",
        "\n",
        "print('Sample input size: ', sample_x.size()) # batch_size, seq_length\n",
        "print('Sample input: \\n', sample_x)\n",
        "print('Sample input: \\n', sample_y)"
      ],
      "metadata": {
        "colab": {
          "base_uri": "https://localhost:8080/"
        },
        "id": "nVQNRTsDqqun",
        "outputId": "c4370fe0-dabc-4f66-eae9-5222b6d4bd9b"
      },
      "execution_count": 47,
      "outputs": [
        {
          "output_type": "stream",
          "name": "stdout",
          "text": [
            "Sample input size:  torch.Size([50, 500])\n",
            "Sample input: \n",
            " tensor([[  0,   0,   0,  ..., 351, 194,   9],\n",
            "        [  0,   0,   0,  ..., 182,  37,  39],\n",
            "        [  0,   0,   0,  ...,  10,  13,   8],\n",
            "        ...,\n",
            "        [  0,   0,   0,  ..., 284,   7, 427],\n",
            "        [  0,   0,   0,  ...,   3,  18,  15],\n",
            "        [  0,   0,   0,  ...,   8, 768, 238]])\n",
            "Sample input: \n",
            " tensor([0, 0, 2, 2, 2, 2, 2, 0, 0, 0, 2, 0, 0, 0, 2, 0, 0, 2, 0, 2, 2, 0, 2, 0,\n",
            "        2, 2, 2, 2, 0, 0, 2, 2, 2, 0, 0, 2, 0, 0, 2, 0, 2, 0, 0, 0, 2, 0, 0, 0,\n",
            "        2, 2])\n"
          ]
        }
      ]
    },
    {
      "cell_type": "markdown",
      "source": [
        "###Model"
      ],
      "metadata": {
        "id": "JDIGzUDrYwvJ"
      }
    },
    {
      "cell_type": "code",
      "source": [
        "class SentimentRNN(nn.Module):\n",
        "  def __init__(self, no_layers, vocab_size, hidden_dim, embedding_dim, output_dim, drop_prob=0.5):\n",
        "    super(SentimentRNN,self).__init__()\n",
        "\n",
        "    self.output_dim = output_dim\n",
        "    self.hidden_dim = hidden_dim\n",
        "\n",
        "    self.no_layers = no_layers\n",
        "    self.vocab_size = vocab_size\n",
        "\n",
        "    # embedding and LSTM layers\n",
        "    self.embedding = nn.Embedding(vocab_size, embedding_dim)\n",
        "    \n",
        "    #lstm\n",
        "    self.lstm = nn.LSTM(input_size=embedding_dim,hidden_size=self.hidden_dim,\n",
        "                        num_layers=no_layers, batch_first=True)\n",
        "    \n",
        "    # dropout layer\n",
        "    self.dropout = nn.Dropout(0.3)\n",
        "\n",
        "    # linear and sigmoid layer\n",
        "    self.fc = nn.Linear(self.hidden_dim, output_dim)\n",
        "      \n",
        "  def forward(self, x, hidden = None):\n",
        "    batch_size = x.size(0)\n",
        "    # embeddings and lstm_out\n",
        "    embeds = self.embedding(x)  # shape: B x S x Feature   since batch = True\n",
        "    \n",
        "    #print(embeds.shape)  #[50, 500, 1000]\n",
        "    lstm_out, hidden = self.lstm(embeds, hidden)\n",
        "    lstm_out = lstm_out.contiguous().view(-1, self.hidden_dim) \n",
        "    \n",
        "    # dropout and fully connected layer\n",
        "    out = self.dropout(lstm_out)\n",
        "    out = self.fc(out)\n",
        "\n",
        "    # sigmoid function\n",
        "    sig_out = nn.functional.log_softmax(out, 1)\n",
        "    \n",
        "    # reshape to be batch_size first\n",
        "    sig_out = sig_out.view(batch_size, sig_out.shape[0]//batch_size, self.output_dim)\n",
        "\n",
        "    sig_out = sig_out[:, -1, :] # get last batch of labels\n",
        "\n",
        "    # return last sigmoid output and hidden state\n",
        "    return sig_out, hidden"
      ],
      "metadata": {
        "id": "1b3cvAGYqxlA"
      },
      "execution_count": 48,
      "outputs": []
    },
    {
      "cell_type": "markdown",
      "source": [
        "###Train"
      ],
      "metadata": {
        "id": "_uU5t5ELYmR6"
      }
    },
    {
      "cell_type": "code",
      "source": [
        "no_layers = 2\n",
        "vocab_size = len(vocab) + 1 # extra 1 for padding\n",
        "embedding_dim = 64\n",
        "output_dim = 3\n",
        "hidden_dim = 256\n",
        "\n",
        "model = SentimentRNN(no_layers, vocab_size, hidden_dim, embedding_dim, output_dim, drop_prob=0.5)\n",
        "\n",
        "#moving to gpu\n",
        "model.to(device)\n",
        "\n",
        "print(model)"
      ],
      "metadata": {
        "colab": {
          "base_uri": "https://localhost:8080/"
        },
        "id": "kevwJLhGrED5",
        "outputId": "8125fb9b-cd81-44a3-9468-189039564d29"
      },
      "execution_count": 52,
      "outputs": [
        {
          "output_type": "stream",
          "name": "stdout",
          "text": [
            "SentimentRNN(\n",
            "  (embedding): Embedding(1001, 64)\n",
            "  (lstm): LSTM(64, 256, num_layers=2, batch_first=True)\n",
            "  (dropout): Dropout(p=0.3, inplace=False)\n",
            "  (fc): Linear(in_features=256, out_features=3, bias=True)\n",
            ")\n"
          ]
        }
      ]
    },
    {
      "cell_type": "code",
      "source": [
        "# loss and optimization functions\n",
        "lr=0.001\n",
        "\n",
        "criterion = nn.CrossEntropyLoss()\n",
        "\n",
        "optimizer = torch.optim.Adam(model.parameters(), lr=lr)\n",
        "\n",
        "# function to predict accuracy\n",
        "def acc(pred, label):\n",
        "  return torch.sum(pred.squeeze().argmax(1) == label.squeeze()).item()"
      ],
      "metadata": {
        "id": "DO7Tisqouh0U"
      },
      "execution_count": 53,
      "outputs": []
    },
    {
      "cell_type": "code",
      "source": [
        "clip = 5\n",
        "epochs = 4\n",
        "valid_loss_min = np.Inf\n",
        "# train for some number of epochs\n",
        "epoch_tr_loss, epoch_vl_loss = [], []\n",
        "epoch_tr_acc, epoch_vl_acc = [], []\n",
        "\n",
        "for epoch in range(epochs):\n",
        "  train_losses = []\n",
        "  train_acc = 0.0\n",
        "  model.train()\n",
        "  # initialize hidden state \n",
        "  h = None\n",
        "  for inputs, labels in train_loader:\n",
        "    if inputs.shape[0] != batch_size:\n",
        "      continue\n",
        "      \n",
        "    inputs, labels = inputs.to(device), labels.to(device)   \n",
        "    # Creating new variables for the hidden state, otherwise\n",
        "    # we'd backprop through the entire training history\n",
        "    \n",
        "    model.zero_grad()\n",
        "    output, h = model(inputs, h)\n",
        "\n",
        "    h = tuple([each.data for each in h])\n",
        "    # calculate the loss and perform backprop\n",
        "    loss = criterion(output.squeeze(), labels)\n",
        "    loss.backward()\n",
        "    train_losses.append(loss.item())\n",
        "    # calculating accuracy\n",
        "    accuracy = acc(output, labels)\n",
        "    train_acc += accuracy\n",
        "    #`clip_grad_norm` helps prevent the exploding gradient problem in RNNs / LSTMs.\n",
        "    nn.utils.clip_grad_norm_(model.parameters(), clip)\n",
        "    optimizer.step()\n",
        "\n",
        "  val_h = None\n",
        "  val_losses = []\n",
        "  val_acc = 0.0\n",
        "  model.eval()\n",
        "  for inputs, labels in valid_loader:\n",
        "    if inputs.shape[0] != batch_size:\n",
        "      continue\n",
        "\n",
        "    inputs, labels = inputs.to(device), labels.to(device)\n",
        "\n",
        "    output, val_h = model(inputs, val_h)\n",
        "    val_loss = criterion(output.squeeze(), labels)\n",
        "\n",
        "    val_h = tuple([each.data for each in val_h])\n",
        "\n",
        "    val_losses.append(val_loss.item())\n",
        "    \n",
        "    accuracy = acc(output, labels)\n",
        "    val_acc += accuracy\n",
        "          \n",
        "  epoch_train_loss = np.mean(train_losses)\n",
        "  epoch_val_loss = np.mean(val_losses)\n",
        "  epoch_train_acc = train_acc/(len(train_loader.dataset)//batch_size*batch_size)\n",
        "  epoch_val_acc = val_acc/(len(valid_loader.dataset)//batch_size*batch_size)\n",
        "  epoch_tr_loss.append(epoch_train_loss)\n",
        "  epoch_vl_loss.append(epoch_val_loss)\n",
        "  epoch_tr_acc.append(epoch_train_acc)\n",
        "  epoch_vl_acc.append(epoch_val_acc)\n",
        "  print(f'Epoch {epoch+1}') \n",
        "  print(f'train_loss : {epoch_train_loss} val_loss : {epoch_val_loss}')\n",
        "  print(f'train_accuracy : {epoch_train_acc*100} val_accuracy : {epoch_val_acc*100}')\n",
        "  if epoch_val_loss <= valid_loss_min:\n",
        "    torch.save(model.state_dict(), './state_dict.pt')\n",
        "    print('Validation loss decreased ({:.6f} --> {:.6f}). Saving model ...'.format(valid_loss_min, epoch_val_loss))\n",
        "    valid_loss_min = epoch_val_loss\n",
        "  print(25*'==')"
      ],
      "metadata": {
        "colab": {
          "base_uri": "https://localhost:8080/"
        },
        "id": "mBwVrDJcujjq",
        "outputId": "d2ac1b15-3059-416a-c85c-0acbfe8eb651"
      },
      "execution_count": 54,
      "outputs": [
        {
          "output_type": "stream",
          "name": "stdout",
          "text": [
            "Epoch 1\n",
            "train_loss : 0.5216704281537157 val_loss : 0.35976006475187117\n",
            "train_accuracy : 78.41228070175438 val_accuracy : 86.90322580645162\n",
            "Validation loss decreased (inf --> 0.359760). Saving model ...\n",
            "==================================================\n",
            "Epoch 2\n",
            "train_loss : 0.3209059489073983 val_loss : 0.3065290662550157\n",
            "train_accuracy : 88.78947368421053 val_accuracy : 89.03225806451613\n",
            "Validation loss decreased (0.359760 --> 0.306529). Saving model ...\n",
            "==================================================\n",
            "Epoch 3\n",
            "train_loss : 0.2550627933161562 val_loss : 0.28334129072966113\n",
            "train_accuracy : 91.32456140350878 val_accuracy : 89.93548387096774\n",
            "Validation loss decreased (0.306529 --> 0.283341). Saving model ...\n",
            "==================================================\n",
            "Epoch 4\n",
            "train_loss : 0.2211483707161326 val_loss : 0.26556122206872507\n",
            "train_accuracy : 92.66666666666666 val_accuracy : 90.90322580645162\n",
            "Validation loss decreased (0.283341 --> 0.265561). Saving model ...\n",
            "==================================================\n"
          ]
        }
      ]
    },
    {
      "cell_type": "code",
      "source": [
        "fig = plt.figure(figsize = (20, 6))\n",
        "plt.subplot(1, 2, 1)\n",
        "plt.plot(epoch_tr_acc, label='Train Acc')\n",
        "plt.plot(epoch_vl_acc, label='Validation Acc')\n",
        "plt.title(\"Accuracy\")\n",
        "plt.legend()\n",
        "plt.grid()\n",
        "    \n",
        "plt.subplot(1, 2, 2)\n",
        "plt.plot(epoch_tr_loss, label='Train loss')\n",
        "plt.plot(epoch_vl_loss, label='Validation loss')\n",
        "plt.title(\"Loss\")\n",
        "plt.legend()\n",
        "plt.grid()\n",
        "\n",
        "plt.show()"
      ],
      "metadata": {
        "id": "IsfRFzb5wJXG",
        "colab": {
          "base_uri": "https://localhost:8080/",
          "height": 390
        },
        "outputId": "4dbd5939-38e0-4248-b36e-17e8b8c59cf8"
      },
      "execution_count": 55,
      "outputs": [
        {
          "output_type": "display_data",
          "data": {
            "text/plain": [
              "<Figure size 1440x432 with 2 Axes>"
            ],
            "image/png": "[encoded data removed]"
          },
          "metadata": {
            "needs_background": "light"
          }
        }
      ]
    },
    {
      "cell_type": "markdown",
      "source": [
        "###Test"
      ],
      "metadata": {
        "id": "5rx9RRjKYqI2"
      }
    },
    {
      "cell_type": "code",
      "source": [
        "def predict_text(text):\n",
        "  word_seq = np.array([vocab[preprocess_string(word)] for word in text.split() \n",
        "                    if preprocess_string(word) in vocab.keys()])\n",
        "  word_seq = np.expand_dims(word_seq, axis=0)\n",
        "  pad =  torch.from_numpy(padding_(word_seq, 500))\n",
        "  inputs = pad.to(device)\n",
        "  batch_size = 1\n",
        "  output, h = model(inputs)\n",
        "  return output\n",
        "\n",
        "df_test = pd.read_csv(path_test)\n",
        "\n",
        "labels = ('negative', 'neutral', 'positive')\n",
        "\n",
        "df_test['sentiment'] = [labels[i] for i in df_test['sentiment']]\n",
        "\n",
        "# ===============================================\n",
        "model = SentimentRNN(no_layers, vocab_size, hidden_dim, embedding_dim, output_dim, drop_prob=0.5).to(device)\n",
        "model.load_state_dict(torch.load('./state_dict.pt'))\n",
        "model.eval()\n",
        "with torch.no_grad():\n",
        "  pred = [labels[predict_text(it).argmax(1)] for it in df_test['sentence']]\n",
        "  df_test.insert(2, 'pred', pred)\n",
        "\n",
        "print('Test accuracy:', np.sum(df_test['sentiment'] == df_test['pred'])/len(df_test['sentiment']))\n",
        "\n",
        "df_test.head()"
      ],
      "metadata": {
        "colab": {
          "base_uri": "https://localhost:8080/",
          "height": 224
        },
        "id": "nEBawAJoIO-N",
        "outputId": "549c9c97-e694-43cc-b3d9-7b9a093c6106"
      },
      "execution_count": 56,
      "outputs": [
        {
          "output_type": "stream",
          "name": "stdout",
          "text": [
            "Test accuracy: 0.8900821225521163\n"
          ]
        },
        {
          "output_type": "execute_result",
          "data": {
            "text/plain": [
              "                                            sentence sentiment      pred\n",
              "0                           nói tiếng anh lưu loát .  positive  negative\n",
              "1                           giáo viên rất vui tính .  positive  positive\n",
              "2                                    cô max có tâm .  positive  positive\n",
              "3                       giảng bài thu hút , dí dỏm .  positive  positive\n",
              "4  giáo viên không giảng dạy kiến thức , hướng dẫ...  negative  negative"
            ],
            "text/html": [
              "\n",
              "  <div id=\"df-5be95de1-6841-4954-a02b-9a46fa3c851e\">\n",
              "    <div class=\"colab-df-container\">\n",
              "      <div>\n",
              "<style scoped>\n",
              "    .dataframe tbody tr th:only-of-type {\n",
              "        vertical-align: middle;\n",
              "    }\n",
              "\n",
              "    .dataframe tbody tr th {\n",
              "        vertical-align: top;\n",
              "    }\n",
              "\n",
              "    .dataframe thead th {\n",
              "        text-align: right;\n",
              "    }\n",
              "</style>\n",
              "<table border=\"1\" class=\"dataframe\">\n",
              "  <thead>\n",
              "    <tr style=\"text-align: right;\">\n",
              "      <th></th>\n",
              "      <th>sentence</th>\n",
              "      <th>sentiment</th>\n",
              "      <th>pred</th>\n",
              "    </tr>\n",
              "  </thead>\n",
              "  <tbody>\n",
              "    <tr>\n",
              "      <th>0</th>\n",
              "      <td>nói tiếng anh lưu loát .</td>\n",
              "      <td>positive</td>\n",
              "      <td>negative</td>\n",
              "    </tr>\n",
              "    <tr>\n",
              "      <th>1</th>\n",
              "      <td>giáo viên rất vui tính .</td>\n",
              "      <td>positive</td>\n",
              "      <td>positive</td>\n",
              "    </tr>\n",
              "    <tr>\n",
              "      <th>2</th>\n",
              "      <td>cô max có tâm .</td>\n",
              "      <td>positive</td>\n",
              "      <td>positive</td>\n",
              "    </tr>\n",
              "    <tr>\n",
              "      <th>3</th>\n",
              "      <td>giảng bài thu hút , dí dỏm .</td>\n",
              "      <td>positive</td>\n",
              "      <td>positive</td>\n",
              "    </tr>\n",
              "    <tr>\n",
              "      <th>4</th>\n",
              "      <td>giáo viên không giảng dạy kiến thức , hướng dẫ...</td>\n",
              "      <td>negative</td>\n",
              "      <td>negative</td>\n",
              "    </tr>\n",
              "  </tbody>\n",
              "</table>\n",
              "</div>\n",
              "      <button class=\"colab-df-convert\" onclick=\"convertToInteractive('df-5be95de1-6841-4954-a02b-9a46fa3c851e')\"\n",
              "              title=\"Convert this dataframe to an interactive table.\"\n",
              "              style=\"display:none;\">\n",
              "        \n",
              "  <svg xmlns=\"http://www.w3.org/2000/svg\" height=\"24px\"viewBox=\"0 0 24 24\"\n",
              "       width=\"24px\">\n",
              "    <path d=\"M0 0h24v24H0V0z\" fill=\"none\"/>\n",
              "    <path d=\"M18.56 5.44l.94 2.06.94-2.06 2.06-.94-2.06-.94-.94-2.06-.94 2.06-2.06.94zm-11 1L8.5 8.5l.94-2.06 2.06-.94-2.06-.94L8.5 2.5l-.94 2.06-2.06.94zm10 10l.94 2.06.94-2.06 2.06-.94-2.06-.94-.94-2.06-.94 2.06-2.06.94z\"/><path d=\"M17.41 7.96l-1.37-1.37c-.4-.4-.92-.59-1.43-.59-.52 0-1.04.2-1.43.59L10.3 9.45l-7.72 7.72c-.78.78-.78 2.05 0 2.83L4 21.41c.39.39.9.59 1.41.59.51 0 1.02-.2 1.41-.59l7.78-7.78 2.81-2.81c.8-.78.8-2.07 0-2.86zM5.41 20L4 18.59l7.72-7.72 1.47 1.35L5.41 20z\"/>\n",
              "  </svg>\n",
              "      </button>\n",
              "      \n",
              "  <style>\n",
              "    .colab-df-container {\n",
              "      display:flex;\n",
              "      flex-wrap:wrap;\n",
              "      gap: 12px;\n",
              "    }\n",
              "\n",
              "    .colab-df-convert {\n",
              "      background-color: #E8F0FE;\n",
              "      border: none;\n",
              "      border-radius: 50%;\n",
              "      cursor: pointer;\n",
              "      display: none;\n",
              "      fill: #1967D2;\n",
              "      height: 32px;\n",
              "      padding: 0 0 0 0;\n",
              "      width: 32px;\n",
              "    }\n",
              "\n",
              "    .colab-df-convert:hover {\n",
              "      background-color: #E2EBFA;\n",
              "      box-shadow: 0px 1px 2px rgba(60, 64, 67, 0.3), 0px 1px 3px 1px rgba(60, 64, 67, 0.15);\n",
              "      fill: #174EA6;\n",
              "    }\n",
              "\n",
              "    [theme=dark] .colab-df-convert {\n",
              "      background-color: #3B4455;\n",
              "      fill: #D2E3FC;\n",
              "    }\n",
              "\n",
              "    [theme=dark] .colab-df-convert:hover {\n",
              "      background-color: #434B5C;\n",
              "      box-shadow: 0px 1px 3px 1px rgba(0, 0, 0, 0.15);\n",
              "      filter: drop-shadow(0px 1px 2px rgba(0, 0, 0, 0.3));\n",
              "      fill: #FFFFFF;\n",
              "    }\n",
              "  </style>\n",
              "\n",
              "      <script>\n",
              "        const buttonEl =\n",
              "          document.querySelector('#df-5be95de1-6841-4954-a02b-9a46fa3c851e button.colab-df-convert');\n",
              "        buttonEl.style.display =\n",
              "          google.colab.kernel.accessAllowed ? 'block' : 'none';\n",
              "\n",
              "        async function convertToInteractive(key) {\n",
              "          const element = document.querySelector('#df-5be95de1-6841-4954-a02b-9a46fa3c851e');\n",
              "          const dataTable =\n",
              "            await google.colab.kernel.invokeFunction('convertToInteractive',\n",
              "                                                     [key], {});\n",
              "          if (!dataTable) return;\n",
              "\n",
              "          const docLinkHtml = 'Like what you see? Visit the ' +\n",
              "            '<a target=\"_blank\" href=https://colab.research.google.com/notebooks/data_table.ipynb>data table notebook</a>'\n",
              "            + ' to learn more about interactive tables.';\n",
              "          element.innerHTML = '';\n",
              "          dataTable['output_type'] = 'display_data';\n",
              "          await google.colab.output.renderOutput(dataTable, element);\n",
              "          const docLink = document.createElement('div');\n",
              "          docLink.innerHTML = docLinkHtml;\n",
              "          element.appendChild(docLink);\n",
              "        }\n",
              "      </script>\n",
              "    </div>\n",
              "  </div>\n",
              "  "
            ]
          },
          "metadata": {},
          "execution_count": 56
        }
      ]
    }
  ]
}